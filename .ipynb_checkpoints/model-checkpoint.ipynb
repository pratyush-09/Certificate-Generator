{
 "cells": [
  {
   "cell_type": "code",
   "execution_count": 22,
   "metadata": {},
   "outputs": [],
   "source": [
    "# Importing the Libraries\n",
    "import cv2 as cv2   #importing opencv\n",
    "import openpyxl     #importing openpyxl (to read and write excel files)\n",
    "from PIL import Image  #importing Image package"
   ]
  },
  {
   "cell_type": "code",
   "execution_count": 23,
   "metadata": {},
   "outputs": [],
   "source": [
    "# Sample Template Path\n",
    "template_path='./template.png'"
   ]
  },
  {
   "cell_type": "code",
   "execution_count": 24,
   "metadata": {},
   "outputs": [],
   "source": [
    "# Data Path\n",
    "data_path='./data.xlsx'"
   ]
  },
  {
   "cell_type": "code",
   "execution_count": 25,
   "metadata": {},
   "outputs": [],
   "source": [
    "# Text Styling \n",
    "name_font_size=8                 # font-size for text (name)\n",
    "institute_font_size=6            # font-size for text (institute)\n",
    "font_color=(0,0,0)               # font-color for text\n",
    "font=cv2.FONT_HERSHEY_PLAIN      # font-style for text"
   ]
  },
  {
   "cell_type": "code",
   "execution_count": 26,
   "metadata": {},
   "outputs": [],
   "source": [
    "# Dimensions of the Certificate\n",
    "coordinate_y_adjustment=15       # dimensions of the certificate vertically\n",
    "coordinate_x_adjustment=7        # dimensions of the certificate horizontally"
   ]
  },
  {
   "cell_type": "code",
   "execution_count": 27,
   "metadata": {},
   "outputs": [],
   "source": [
    "# Opening the Data file\n",
    "obj=openpyxl.load_workbook(data_path)    # opening the excel file\n",
    "sheet=obj.active # loading the active sheet"
   ]
  },
  {
   "cell_type": "code",
   "execution_count": 28,
   "metadata": {},
   "outputs": [],
   "source": [
    "# Functioning\n",
    "for i in range(1,11):    # for repeating the steps 10 times (10 entries present in the dataset)\n",
    "    get_name=sheet.cell(row=i,column=1)    # reading the name cell\n",
    "    get_institute=sheet.cell(row=i,column=2)    # reading the institute cell\n",
    "    candidate_name=get_name.value    # extracting name from cell\n",
    "    institute_name=get_institute.value     # extracting institute from cell\n",
    "    img=cv2.imread(template_path)    # reading the sample template as IMAGE\n",
    "    text_size1=cv2.getTextSize(candidate_name,font,name_font_size,10)[0]    # setting dimensions of the text (name)\n",
    "    text_size2=cv2.getTextSize(institute_name,font,institute_font_size,10)[0]  # setting dimensions of the text (institute)\n",
    "    text_x1=(img.shape[1]-text_size1[0])/2+coordinate_x_adjustment    # setting position referring to the certificate dimensions\n",
    "    text_y1=(img.shape[0]+text_size1[1])/2-coordinate_y_adjustment    # setting position referring to the certificate dimensions\n",
    "    text_x2=(img.shape[1]-text_size2[0])/2+coordinate_x_adjustment    # setting position referring to the certificate dimensions\n",
    "    text_y2=(img.shape[0]+text_size2[1])/2-coordinate_y_adjustment    # setting position referring to the certificate dimensions\n",
    "    text_x1=int(text_x1)        # positioning the text (name) horizontally\n",
    "    text_y1=int(text_y1-230)    # positioning the text (name) vertically\n",
    "    text_x2=int(text_x2)        # positioning the text (institute) horiontally\n",
    "    text_y2=int(text_y2+20)     # positioning the text (institute) vertically\n",
    "    cv2.putText(img,candidate_name,    # putting text (name) in the sample with the assigned styles\n",
    "           (text_x1,text_y1),\n",
    "           font,\n",
    "           name_font_size,\n",
    "           font_color,10)\n",
    "    cv2.putText(img,institute_name,    #putting text (institute) in the sample with the assigned styles\n",
    "           (text_x2,text_y2),\n",
    "           font,\n",
    "           institute_font_size,\n",
    "           font_color,10)\n",
    "    imgr=cv2.cvtColor(img,cv2.COLOR_RGB2BGR)    # converting color from RGB to BGR (BGR is default but opencv converts it into RGB, so converting back to BGR)\n",
    "    image=Image.fromarray(imgr)                 # converting the image array into Image\n",
    "    image.save('./Certificates/'+candidate_name+' certificate'+'.jpeg')     # saving the certificate image in the desired location with desired names"
   ]
  },
  {
   "cell_type": "code",
   "execution_count": null,
   "metadata": {},
   "outputs": [],
   "source": []
  }
 ],
 "metadata": {
  "kernelspec": {
   "display_name": "Python 3",
   "language": "python",
   "name": "python3"
  },
  "language_info": {
   "codemirror_mode": {
    "name": "ipython",
    "version": 3
   },
   "file_extension": ".py",
   "mimetype": "text/x-python",
   "name": "python",
   "nbconvert_exporter": "python",
   "pygments_lexer": "ipython3",
   "version": "3.7.6"
  }
 },
 "nbformat": 4,
 "nbformat_minor": 4
}
